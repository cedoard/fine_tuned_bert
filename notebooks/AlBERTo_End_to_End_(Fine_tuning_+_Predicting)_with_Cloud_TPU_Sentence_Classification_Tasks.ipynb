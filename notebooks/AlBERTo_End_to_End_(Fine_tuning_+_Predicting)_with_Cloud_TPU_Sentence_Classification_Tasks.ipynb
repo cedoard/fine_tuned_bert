{
  "nbformat": 4,
  "nbformat_minor": 0,
  "metadata": {
    "colab": {
      "name": "AlBERTo_End_to_End_(Fine_tuning_+_Predicting)_with_Cloud_TPU_Sentence_Classification_Tasks.ipynb",
      "provenance": [],
      "collapsed_sections": [],
      "include_colab_link": true
    },
    "kernelspec": {
      "name": "python3",
      "display_name": "Python 3"
    },
    "accelerator": "TPU"
  },
  "cells": [
    {
      "cell_type": "markdown",
      "metadata": {
        "id": "view-in-github",
        "colab_type": "text"
      },
      "source": [
        "<a href=\"https://colab.research.google.com/github/cedoard/fine_tuned_bert/blob/master/notebooks/AlBERTo_End_to_End_(Fine_tuning_%2B_Predicting)_with_Cloud_TPU_Sentence_Classification_Tasks.ipynb\" target=\"_parent\"><img src=\"https://colab.research.google.com/assets/colab-badge.svg\" alt=\"Open In Colab\"/></a>"
      ]
    },
    {
      "cell_type": "code",
      "metadata": {
        "id": "wHQH4OCHZ9bq"
      },
      "source": [
        "# Original code licensed by:\n",
        "# Copyright 2018 The TensorFlow Hub Authors. All Rights Reserved.\n",
        "#\n",
        "# Licensed under the Apache License, Version 2.0 (the \"License\");\n",
        "# you may not use this file except in compliance with the License.\n",
        "# You may obtain a copy of the License at\n",
        "#\n",
        "#     http://www.apache.org/licenses/LICENSE-2.0\n",
        "#\n",
        "# Unless required by applicable law or agreed to in writing, software\n",
        "# distributed under the License is distributed on an \"AS IS\" BASIS,\n",
        "# WITHOUT WARRANTIES OR CONDITIONS OF ANY KIND, either express or implied.\n",
        "# See the License for the specific language governing permissions and\n",
        "# limitations under the License.\n",
        "# =============================================================================="
      ],
      "execution_count": null,
      "outputs": []
    },
    {
      "cell_type": "markdown",
      "metadata": {
        "id": "rkTLZ3I4_7c_"
      },
      "source": [
        "# AlBERTo End to End (Fine-tuning + Predicting) with Cloud TPU"
      ]
    },
    {
      "cell_type": "markdown",
      "metadata": {
        "id": "1wtjs1QDb3DX"
      },
      "source": [
        "## Overview\n",
        "\n",
        "**BERT**, or **B**idirectional **E**mbedding **R**epresentations from **T**ransformers, is a new method of pre-training language representations which obtains state-of-the-art results on a wide array of Natural Language Processing (NLP) tasks. The academic paper can be found here: https://arxiv.org/abs/1810.04805.\n",
        "\n",
        "In particular we use this Notebook for fine-tuning **AlBERTo**, the first italian undertanding language model for Twitter Language.\n",
        "\n",
        "**Note:**  You will need a GCP (Google Compute Engine) account and a GCS (Google Cloud \n",
        "Storage) bucket for this Colab to run.\n",
        "\n",
        "Please follow the [Google Cloud TPU quickstart](https://cloud.google.com/tpu/docs/quickstart) for how to create GCP account and GCS bucket. \n",
        "\n",
        "You can learn more about Cloud TPU at https://cloud.google.com/tpu/docs."
      ]
    },
    {
      "cell_type": "markdown",
      "metadata": {
        "id": "Ld-JXlueIuPH"
      },
      "source": [
        "## Instructions"
      ]
    },
    {
      "cell_type": "markdown",
      "metadata": {
        "id": "POkof5uHaQ_c"
      },
      "source": [
        "<h3><a href=\"https://cloud.google.com/tpu/\"><img valign=\"middle\" src=\"https://raw.githubusercontent.com/GoogleCloudPlatform/tensorflow-without-a-phd/master/tensorflow-rl-pong/images/tpu-hexagon.png\" width=\"50\"></a>  &nbsp;&nbsp;Train on TPU</h3>\n",
        "\n",
        "   1. Create a Cloud Storage bucket for your TensorBoard logs at http://console.cloud.google.com/storage and fill in the BUCKET parameter in the \"Parameters\" section below.\n",
        " \n",
        "   1. On the main menu, click Runtime and select **Change runtime type**. Set \"TPU\" as the hardware accelerator."
      ]
    },
    {
      "cell_type": "markdown",
      "metadata": {
        "id": "jr29zwkRTvZg"
      },
      "source": [
        "### Install/Import required modules"
      ]
    },
    {
      "cell_type": "code",
      "metadata": {
        "id": "uktgjI7JT7vc"
      },
      "source": [
        "!pip install tensorflow==1.14.0\r\n",
        "\r\n",
        "!pip install gcsfs \r\n",
        "!pip install fsspec \r\n",
        "\r\n",
        "!pip install ekphrasis\r\n",
        "#!pip install pandas\r\n",
        "#!pip install numpy"
      ],
      "execution_count": null,
      "outputs": []
    },
    {
      "cell_type": "code",
      "metadata": {
        "id": "YXWV6SARX2zB"
      },
      "source": [
        "import datetime\r\n",
        "import json\r\n",
        "import os\r\n",
        "import pprint\r\n",
        "import random\r\n",
        "import string\r\n",
        "import sys\r\n",
        "import tensorflow as tf\r\n",
        "\r\n",
        "#PREPARE TRAINING SENTENCES\r\n",
        "from ekphrasis.classes.preprocessor import TextPreProcessor\r\n",
        "from ekphrasis.classes.tokenizer import SocialTokenizer\r\n",
        "from ekphrasis.dicts.emoticons import emoticons\r\n",
        "import pandas as pd\r\n",
        "import numpy as np\r\n",
        "import re"
      ],
      "execution_count": null,
      "outputs": []
    },
    {
      "cell_type": "markdown",
      "metadata": {
        "id": "UdMmwCJFaT8F"
      },
      "source": [
        "\r\n",
        "### Set up your TPU environment"
      ]
    },
    {
      "cell_type": "markdown",
      "metadata": {
        "id": "avPoDdlBRTGR"
      },
      "source": [
        "\r\n",
        "Google Cloud Shell commands (see: [Google Cloud TPU quickstart](https://cloud.google.com/tpu/docs/quickstart))\r\n",
        "\r\n",
        "`export PROJECT_ID=reberting`\r\n",
        "\r\n",
        "`gcloud config set project $PROJECT_ID`\r\n",
        "\r\n",
        "`gsutil mb -p ${PROJECT_ID} -c standard -l us-central1 -b on gs://bucket-rebert`\r\n",
        "\r\n",
        "```\r\n",
        "ctpu up --project=${PROJECT_ID} \\\r\n",
        " --zone=us-central1-b \\\r\n",
        " --tf-version=1.14 \\\r\n",
        " --name=tpu-alberto\r\n",
        "```\r\n",
        "\r\n",
        "\r\n",
        "\r\n"
      ]
    },
    {
      "cell_type": "markdown",
      "metadata": {
        "id": "Bk6xSjIhTdDN"
      },
      "source": [
        "\r\n",
        "In this section, you perform the following tasks:\r\n",
        "\r\n",
        "*   Set up a Colab TPU running environment\r\n",
        "*   Verify that you are connected to a TPU device\r\n",
        "*   Upload your credentials to TPU to access your GCS bucket."
      ]
    },
    {
      "cell_type": "code",
      "metadata": {
        "id": "191zq3ZErihP"
      },
      "source": [
        "assert 'COLAB_TPU_ADDR' in os.environ, 'ERROR: Not connected to a TPU runtime; please see the first cell in this notebook for instructions!'\n",
        "TPU_ADDRESS = 'grpc://' + os.environ['COLAB_TPU_ADDR']\n",
        "print('TPU address is', TPU_ADDRESS)\n",
        "\n",
        "from google.colab import auth\n",
        "auth.authenticate_user()\n",
        "\n",
        "with tf.Session(TPU_ADDRESS) as session:\n",
        "  print('TPU devices:')\n",
        "  pprint.pprint(session.list_devices())\n",
        "\n",
        "  # Upload credentials to TPU.\n",
        "  with open('/content/adc.json', 'r') as f:\n",
        "    auth_info = json.load(f)\n",
        "  tf.contrib.cloud.configure_gcs(session, credentials=auth_info)\n",
        "  # Now credentials are set for all future sessions on this TPU."
      ],
      "execution_count": null,
      "outputs": []
    },
    {
      "cell_type": "markdown",
      "metadata": {
        "id": "HUBP35oCDmbF"
      },
      "source": [
        "### Prepare and import BERT modules\n",
        "​\n",
        "With your environment configured, you can now prepare and import the BERT modules. The following step clones the source code from GitHub and import the modules from the source. \n"
      ]
    },
    {
      "cell_type": "code",
      "metadata": {
        "id": "7wzwke0sxS6W",
        "colab": {
          "base_uri": "https://localhost:8080/"
        },
        "outputId": "2c9f2ace-688c-4613-8274-7cd7cb119e9f"
      },
      "source": [
        "!test -d bert_repo || git clone https://github.com/google-research/bert bert_repo\n",
        "if not 'bert_repo' in sys.path:\n",
        "  sys.path += ['bert_repo']\n",
        "\n",
        "# import python modules defined by BERT\n",
        "from run_classifier import *\n",
        "import modeling\n",
        "import optimization\n",
        "import tokenization"
      ],
      "execution_count": null,
      "outputs": [
        {
          "output_type": "stream",
          "text": [
            "Cloning into 'bert_repo'...\n",
            "remote: Enumerating objects: 340, done.\u001b[K\n",
            "remote: Total 340 (delta 0), reused 0 (delta 0), pack-reused 340\u001b[K\n",
            "Receiving objects: 100% (340/340), 315.49 KiB | 4.04 MiB/s, done.\n",
            "Resolving deltas: 100% (185/185), done.\n",
            "WARNING:tensorflow:From bert_repo/optimization.py:87: The name tf.train.Optimizer is deprecated. Please use tf.compat.v1.train.Optimizer instead.\n",
            "\n"
          ],
          "name": "stdout"
        }
      ]
    },
    {
      "cell_type": "markdown",
      "metadata": {
        "id": "ud4ZSFOT3zTQ"
      },
      "source": [
        "### Define Path"
      ]
    },
    {
      "cell_type": "code",
      "metadata": {
        "colab": {
          "base_uri": "https://localhost:8080/"
        },
        "id": "I7i9nNFq4gI4",
        "outputId": "6099692c-7ab8-4c6e-ae7e-c83fa1095abb"
      },
      "source": [
        "from google.colab import drive\r\n",
        "drive.mount('/content/drive')\r\n",
        "\r\n",
        "DATA_PATH = \"/content/drive/My Drive/Colab Notebooks/data/\"\r\n",
        "MODEL_PATH = \"/content/drive/My Drive/Colab Notebooks/model/\""
      ],
      "execution_count": null,
      "outputs": [
        {
          "output_type": "stream",
          "text": [
            "Mounted at /content/drive\n"
          ],
          "name": "stdout"
        }
      ]
    },
    {
      "cell_type": "code",
      "metadata": {
        "id": "tYkaAlJNfhul",
        "colab": {
          "base_uri": "https://localhost:8080/"
        },
        "outputId": "e5c3fa3c-a32e-402a-98f4-e5a143caf06c"
      },
      "source": [
        "TASK = 'sharing_mobility' #@param {type:\"string\"}\n",
        "BUCKET = 'bucket-rebert' #@param {type:\"string\"}\n",
        "INIT_MODEL = 'alberto_model.ckpt'\n",
        "\n",
        "assert BUCKET, 'Must specify an existing GCS bucket name'\n",
        "BUCKET_DIR = 'gs://{}'.format(BUCKET)\n",
        "\n",
        "#INPUT PATH\n",
        "TRAIN_TEST_DATA = 'gs://{}/train_test_data/'.format(BUCKET)\n",
        "\n",
        "#OUTPUT PATH\n",
        "OUTPUT_DIR_MODEL = 'gs://{}/{}/models/'.format(BUCKET, TASK)\n",
        "tf.gfile.MakeDirs(OUTPUT_DIR_MODEL)\n",
        "OUTPUT_DIR_RESULT = 'gs://{}/{}/result/'.format(BUCKET, TASK)\n",
        "tf.gfile.MakeDirs(OUTPUT_DIR_RESULT)\n",
        "OUTPUT_DIR_MODEL_TO_EXPORT = 'gs://{}/{}/models_export/'.format(BUCKET, TASK)\n",
        "tf.gfile.MakeDirs(OUTPUT_DIR_MODEL)\n",
        "\n",
        "print('***** Model output directory: {} *****'.format(OUTPUT_DIR_MODEL))\n",
        "\n",
        "#CONFIGURE AlBERTo MODEL\n",
        "BERT_CONFIG_FILE = 'gs://{}/alberto_files/config.json'.format(BUCKET) #@param {type:\"string\"}\n",
        "VOCAB_FILE = 'gs://{}/alberto_files/vocab.txt'.format(BUCKET) #@param {type:\"string\"}\n",
        "INIT_CHECKPOINT = 'gs://{}/alberto_files/{}'.format(BUCKET,INIT_MODEL) #@param {type:\"string\"}"
      ],
      "execution_count": null,
      "outputs": [
        {
          "output_type": "stream",
          "text": [
            "***** Model output directory: gs://bucket-rebert/sharing_mobility/models/ *****\n"
          ],
          "name": "stdout"
        }
      ]
    },
    {
      "cell_type": "markdown",
      "metadata": {
        "id": "oqQ_LHyzcoYW"
      },
      "source": [
        "### Initialize BERT hyperparams and initialize TPU config."
      ]
    },
    {
      "cell_type": "code",
      "metadata": {
        "id": "pYVYULZiKvUi"
      },
      "source": [
        "#SET THE PARAMETERS\n",
        "TRAIN_BATCH_SIZE = 512\n",
        "PREDICT_BATCH_SIZE = 512\n",
        "EVAL_BATCH_SIZE = 512\n",
        "LEARNING_RATE = 2e-5\n",
        "NUM_TRAIN_EPOCHS = 10.0\n",
        "MAX_SEQ_LENGTH = 128\n",
        "# Warmup is a period of time where hte learning rate \n",
        "# is small and gradually increases--usually helps training.\n",
        "WARMUP_PROPORTION = 0.1\n",
        "# Model configs\n",
        "SAVE_CHECKPOINTS_STEPS = 1000\n",
        "SAVE_SUMMARY_STEPS = 500\n",
        "\n",
        "# Setup TPU related config\n",
        "tpu_cluster_resolver = tf.contrib.cluster_resolver.TPUClusterResolver(TPU_ADDRESS)\n",
        "NUM_TPU_CORES = 8\n",
        "ITERATIONS_PER_LOOP = 1000\n",
        "\n",
        "def get_run_config(output_dir):\n",
        "  return tf.contrib.tpu.RunConfig(\n",
        "    cluster=tpu_cluster_resolver,\n",
        "    model_dir=output_dir,\n",
        "    save_checkpoints_steps=SAVE_CHECKPOINTS_STEPS,\n",
        "    tpu_config=tf.contrib.tpu.TPUConfig(\n",
        "        iterations_per_loop=ITERATIONS_PER_LOOP,\n",
        "        num_shards=NUM_TPU_CORES,\n",
        "        per_host_input_for_training=tf.contrib.tpu.InputPipelineConfig.PER_HOST_V2))\n"
      ],
      "execution_count": null,
      "outputs": []
    },
    {
      "cell_type": "code",
      "metadata": {
        "id": "BAadlolf59wM"
      },
      "source": [
        "#Labels used for annotating sentences\r\n",
        "label_list = [0, 1]\r\n",
        "\r\n",
        "#Inizialize BERT tokenizer\r\n",
        "tokenizer = tokenization.FullTokenizer(VOCAB_FILE, do_lower_case=True)\r\n",
        "tokenizer.tokenize(\"dovevo arrivare in università luiss e si è spento perché è entrato nella zona in cui non può più circolare ma va va\")"
      ],
      "execution_count": null,
      "outputs": []
    },
    {
      "cell_type": "markdown",
      "metadata": {
        "id": "4bNb-at24ONc"
      },
      "source": [
        "### Prepare the training data"
      ]
    },
    {
      "cell_type": "code",
      "metadata": {
        "id": "Gzfl2-tcQUc4",
        "colab": {
          "base_uri": "https://localhost:8080/"
        },
        "outputId": "d18dfd0a-a354-4921-aef1-1277fbd591ed"
      },
      "source": [
        "text_processor = TextPreProcessor (\n",
        "    # terms that will be normalized\n",
        "    normalize=[ 'url' , 'email', 'user', 'percent', 'money', 'phone', 'time', 'date', 'number'] ,\n",
        "    # terms that will be annotated\n",
        "    annotate={\"hashtag\"} ,\n",
        "    fix_html=True ,  # fix HTML tokens\n",
        "\n",
        "    unpack_hashtags=True ,  # perform word segmentation on hashtags\n",
        "\n",
        "    # select a tokenizer. You can use SocialTokenizer, or pass your own\n",
        "    # the tokenizer, should take as input a string and return a list of tokens\n",
        "    tokenizer=SocialTokenizer(lowercase=True).tokenize,\n",
        "    dicts = [ emoticons ]\n",
        ")\n",
        "\n",
        "def ekphrasis_preprocess(text_processor, s):\n",
        "  s = s.lower()\n",
        "  s = str(\" \".join(text_processor.pre_process_doc(s)))\n",
        "  s = re.sub(r\"[^a-zA-ZÀ-ú</>!?♥♡\\s\\U00010000-\\U0010ffff]\", ' ', s)\n",
        "  s = re.sub(r\"\\s+\", ' ', s)\n",
        "  s = re.sub(r'(\\w)\\1{2,}',r'\\1\\1', s)\n",
        "  s = re.sub ( r'^\\s' , '' , s )\n",
        "  s = re.sub ( r'\\s$' , '' , s )\n",
        "  return s"
      ],
      "execution_count": null,
      "outputs": [
        {
          "output_type": "stream",
          "text": [
            "Word statistics files not found!\n",
            "Downloading... done!\n",
            "Unpacking... done!\n",
            "Reading english - 1grams ...\n",
            "generating cache file for faster loading...\n",
            "reading ngrams /root/.ekphrasis/stats/english/counts_1grams.txt\n",
            "Reading english - 2grams ...\n",
            "generating cache file for faster loading...\n",
            "reading ngrams /root/.ekphrasis/stats/english/counts_2grams.txt\n",
            "Reading english - 1grams ...\n"
          ],
          "name": "stdout"
        }
      ]
    },
    {
      "cell_type": "code",
      "metadata": {
        "colab": {
          "base_uri": "https://localhost:8080/",
          "height": 212
        },
        "id": "m6oNo17K1KD3",
        "outputId": "06965fa8-c668-441c-986d-9897e2eae23b"
      },
      "source": [
        "#LOAD TRAINING AND TEST DATA\r\n",
        "data = pd.read_excel(os.path.join(TRAIN_TEST_DATA,'MERGED_micromobilita_3012.xlsx'))\r\n",
        "data = data.loc[~data.sentiment.isin(['NEUTRAL'])]\r\n",
        "data = data.dropna().reset_index(drop=True)\r\n",
        "data.loc[data.sentiment=='POS',\"sentiment\"] = 1\r\n",
        "data.loc[data.sentiment=='NEG',\"sentiment\"] = 0\r\n",
        "\r\n",
        "print(data.sentiment.unique())\r\n",
        "\r\n",
        "data.head()"
      ],
      "execution_count": null,
      "outputs": [
        {
          "output_type": "stream",
          "text": [
            "[0 1]\n"
          ],
          "name": "stdout"
        },
        {
          "output_type": "execute_result",
          "data": {
            "text/html": [
              "<div>\n",
              "<style scoped>\n",
              "    .dataframe tbody tr th:only-of-type {\n",
              "        vertical-align: middle;\n",
              "    }\n",
              "\n",
              "    .dataframe tbody tr th {\n",
              "        vertical-align: top;\n",
              "    }\n",
              "\n",
              "    .dataframe thead th {\n",
              "        text-align: right;\n",
              "    }\n",
              "</style>\n",
              "<table border=\"1\" class=\"dataframe\">\n",
              "  <thead>\n",
              "    <tr style=\"text-align: right;\">\n",
              "      <th></th>\n",
              "      <th>keywords</th>\n",
              "      <th>date</th>\n",
              "      <th>comment</th>\n",
              "      <th>sentiment</th>\n",
              "    </tr>\n",
              "  </thead>\n",
              "  <tbody>\n",
              "    <tr>\n",
              "      <th>0</th>\n",
              "      <td>ecooltra</td>\n",
              "      <td>2020-11-09 16:40:03</td>\n",
              "      <td>La mia esperienza personale è pessima. Gli ult...</td>\n",
              "      <td>0</td>\n",
              "    </tr>\n",
              "    <tr>\n",
              "      <th>1</th>\n",
              "      <td>bird</td>\n",
              "      <td>2020-11-09 13:59:23</td>\n",
              "      <td>Pessima esperienza, applicazione instabile e p...</td>\n",
              "      <td>0</td>\n",
              "    </tr>\n",
              "    <tr>\n",
              "      <th>2</th>\n",
              "      <td>mobike</td>\n",
              "      <td>2020-11-09 13:25:17</td>\n",
              "      <td>Peccato, il servizio è davvero valido ma l'app...</td>\n",
              "      <td>0</td>\n",
              "    </tr>\n",
              "    <tr>\n",
              "      <th>3</th>\n",
              "      <td>lime</td>\n",
              "      <td>2020-11-09 08:28:53</td>\n",
              "      <td>PESSIMO. Mi ha sbloccato la bici cambiandole c...</td>\n",
              "      <td>0</td>\n",
              "    </tr>\n",
              "    <tr>\n",
              "      <th>4</th>\n",
              "      <td>wind</td>\n",
              "      <td>2020-11-09 02:02:16</td>\n",
              "      <td>Mi hanno dato una multa di 73 euro non lo so p...</td>\n",
              "      <td>0</td>\n",
              "    </tr>\n",
              "  </tbody>\n",
              "</table>\n",
              "</div>"
            ],
            "text/plain": [
              "   keywords  ... sentiment\n",
              "0  ecooltra  ...         0\n",
              "1      bird  ...         0\n",
              "2    mobike  ...         0\n",
              "3      lime  ...         0\n",
              "4      wind  ...         0\n",
              "\n",
              "[5 rows x 4 columns]"
            ]
          },
          "metadata": {
            "tags": []
          },
          "execution_count": 12
        }
      ]
    },
    {
      "cell_type": "code",
      "metadata": {
        "id": "xBoMdhmX3NwH",
        "colab": {
          "base_uri": "https://localhost:8080/"
        },
        "outputId": "ef68469b-a44b-4b39-fb7f-7097e0fa002d"
      },
      "source": [
        "#PREPROCESS TRAINING AND TEST DATA\n",
        "sentences_labelled = data[['comment', 'sentiment']].values.tolist()\n",
        "np.random.shuffle(sentences_labelled)\n",
        "\n",
        "split = int(len(sentences_labelled)*0.8)\n",
        "sentences_labelled_train, sentences_labelled_test = sentences_labelled[:split], sentences_labelled[split:]\n",
        "\n",
        "sentences = [s[0] for s in sentences_labelled]\n",
        "labels = [s[1] for s in sentences_labelled]\n",
        "sentence_train, sentence_test = sentences[:split], sentences[split:]\n",
        "labels_train, labels_test = labels[:split], labels[split:]\n",
        "\n",
        "sentences_labelled_filtered = [[s[1],ekphrasis_preprocess(text_processor, s[0])] for s in sentences_labelled]\n",
        "sentences_labelled_filtered_train, sentences_labelled_filtered_test = sentences_labelled_filtered[:split], sentences_labelled_filtered[split:]\n",
        "\n",
        "print(len(sentences_labelled_filtered),len(sentences_labelled_filtered_train),len(sentences_labelled_filtered_test))"
      ],
      "execution_count": null,
      "outputs": [
        {
          "output_type": "stream",
          "text": [
            "8042 6433 1609\n"
          ],
          "name": "stdout"
        }
      ]
    },
    {
      "cell_type": "code",
      "metadata": {
        "colab": {
          "base_uri": "https://localhost:8080/"
        },
        "id": "PYdyQA183LCq",
        "outputId": "a9107e1d-a079-46d6-ed30-80812507ae46"
      },
      "source": [
        "'''\r\n",
        "We'll need to transform our data into a format BERT understands. This involves two steps. First, we create InputExample's using the constructor provided in the BERT library.\r\n",
        "\r\n",
        "    text_a is the text we want to classify, which in this case, is the Request field in our Dataframe.\r\n",
        "    text_b is used if we're training a model to understand the relationship between sentences (i.e. is text_b a translation of text_a? Is text_b an answer to the question asked by text_a?). This doesn't apply to our task, so we can leave text_b blank.\r\n",
        "    label is the label for our example, i.e. True, False\r\n",
        "\r\n",
        "'''\r\n",
        "\r\n",
        "f = lambda x: InputExample(guid=None, # Globally unique ID for bookkeeping, unused in this example\r\n",
        "                           text_a = x[1], \r\n",
        "                           text_b = None, \r\n",
        "                           label = int(x[0])\r\n",
        "                           )\r\n",
        "\r\n",
        "f2 = lambda x: InputExample(guid=None, # Globally unique ID for bookkeeping, unused in this example\r\n",
        "                            text_a = x[1], \r\n",
        "                            text_b = None, \r\n",
        "                            label = 0\r\n",
        "                            )\r\n",
        "\r\n",
        "train_examples = map(f,sentences_labelled_filtered_train)\r\n",
        "train_examples = list(train_examples)\r\n",
        "train_examples = np.array(train_examples)\r\n",
        "\r\n",
        "test_examples = map(f2,sentences_labelled_filtered_test)\r\n",
        "test_examples = list(test_examples)\r\n",
        "test_examples = np.array(test_examples)\r\n",
        "\r\n",
        "print(test_examples.shape)\r\n",
        "print(train_examples.shape)"
      ],
      "execution_count": null,
      "outputs": [
        {
          "output_type": "stream",
          "text": [
            "(1609,)\n",
            "(6433,)\n"
          ],
          "name": "stdout"
        }
      ]
    },
    {
      "cell_type": "code",
      "metadata": {
        "id": "8snKD00ZOVNK",
        "colab": {
          "base_uri": "https://localhost:8080/"
        },
        "outputId": "4164182f-7b04-4348-e862-579f56b7d0be"
      },
      "source": [
        "#Test data just created\n",
        "for r in train_examples[:10]:\n",
        "  print(r.text_a, r.label)\n",
        "print(\"-\"*150)\n",
        "#Test data just created\n",
        "for r in test_examples[:10]:\n",
        "  print(r.text_a, r.label)"
      ],
      "execution_count": null,
      "outputs": [
        {
          "output_type": "stream",
          "text": [
            "favolosa app complimenti se volete <number> minuti gratis utilizzare questo codice gnzdh 1\n",
            "ottima la app la localizzazione degli scooter precisa ho preso x ora solo <number> volte ma ottimo servizio 1\n",
            "do <number> stelle è tutto perfetto unica pecca applicazione un po lenta 1\n",
            "a quanto pare sui telefoni xiaomi ci sono problemi per quanto riguarda l invio dell sms per la conferma del numero di telefono 0\n",
            "codice <number> sblocchi gratis bdak s 1\n",
            "la geolocalizzazione dell app lascia a desiderare non si aggiorna o lo fa in ritardo non permette di attivare la navigazione verso un monopattino inoltre la cartina stessa risulta solo con nord in alto non è possibile orientarla nel senso di marcia ogni tanto si blocca e non si riesce a sbloccare il mezzo parere mio <money> per il solo sblocco del mezzo mi sembra eccessivo altra cosa purtroppo non avvisano tempestivamente gli utenti della sospensione del servizio 0\n",
            "bello a le ruote pikkole cio sempre paura de andare a sbatte addosso a una macchina o de spaccamme una gamba 1\n",
            "bike sharing installate tre nuove postazioni ecco dove <url> <url> 1\n",
            "iscriviti usando il mio codice promozionale trxdb otterremo entrambi <number> minuti omaggio molto comoda per muoversi nel centro di roma ! 1\n",
            "ho noleggiato per due volte il monopattino a roma da piazza della rovere alla stazione ferroviaria di roma san pietro per un brevissimo tratto mi sono stati addebitati in entrambe le volte <number> euro per il recupero ho chiesto di avere la mappa per non uscire dalla zona consentita senza avere risposta la prima volta dott ha verificato scusandosi dell accaduto restituendomi sil mio account i <number> euro ma dopo due giorni per lo stesso tragitto è successa la stessa cosa con uguale addebito 0\n",
            "------------------------------------------------------------------------------------------------------------------------------------------------------\n",
            "ncrsq codice per avere <number> euro gratuiti di noleggio cioè <number> miniti senza altri costi ci sono due caschi gli scooter sono elettrici e veramente piacevoli da portare anche in due attenzione se si parcheggia sopra il marciapiede perché non è mai consentito e fanno la multa come è successo a me euro perché ho parcheggiato su un marciapiede enorme con altri motorini talmente vuoto che si poteva passare con un autobus quindi meglio se li mettete sulla strada 0\n",
            "s c a n d a l o s i dove sono i monopattini ad ostia ? cancellate le recensioni che non vi piacciono ? ridatemi i soldi che ho sull account visto che non ci sono i vostri mezzi 0\n",
            "la registrazione è in ballo da <number> mesi continuo a inserire la foto della patente e del codice fiscale ma non mi da nessun ok ricezione foto anzi mi chiede di caricare l app in continuazione continuo a ricevere email sulla non completezza della registrazione quando ora non riesco nemmeno ad entrare con i miei dati l app dice password errata alchè per non evitare sbagli ho cambiato la password seguendo il procedimento password smarrita ma nemmeno con quella nuova mi fa entrare vorrei incredibilmente usufruire del servizio ma se non sapete gestire l app non saprei cosa pensare dello scooter se ho problemi mentre noleggio pessima funzionalità app account sospeso per mesi senza segni di aiuto da parte vostra che dire nemmeno ho iniziato ad usare questo servizio che già ho problemi 0\n",
            "direi che funziona piuttosto bene ! 0\n",
            "ottimo servizio di scooter sharing <money> di credito per i nuovi iscritti con il codice ckdgb 0\n",
            "stesso problema invalid api key sempre aggiornato app cancellata compresi i dati e cache e reinstallata ma nulla avete risolto il problema grazie mille 0\n",
            "molto divertente ma dovete dire subito i costi bastardi <money> per partire <number> al minuto vale la pena divertente ! 0\n",
            "fa schifo 0\n",
            "fichissimo 0\n",
            "app pessima 0\n"
          ],
          "name": "stdout"
        }
      ]
    },
    {
      "cell_type": "code",
      "metadata": {
        "id": "4cSeUTV0CXB5"
      },
      "source": [
        "'''\r\n",
        "Il metodo \"convert_examples_to_features\" crea le features da dare in input alla rete BERT:\r\n",
        "  - restituisce un array di oggetti \"InputFeatures\"\r\n",
        "  - \"InputFeatures\" ha i seguenti attributi:\r\n",
        "          - input_ids\r\n",
        "          - input_mask\r\n",
        "          - segment_ids\r\n",
        "          - label_id\r\n",
        "\r\n",
        "'''\r\n",
        "\r\n",
        "train_features = convert_examples_to_features(\r\n",
        "      train_examples, label_list, MAX_SEQ_LENGTH, tokenizer)"
      ],
      "execution_count": null,
      "outputs": []
    },
    {
      "cell_type": "code",
      "metadata": {
        "colab": {
          "base_uri": "https://localhost:8080/"
        },
        "id": "tjL1ltd0Cpza",
        "outputId": "5cd4d0da-c135-427b-ee77-010a75840dfc"
      },
      "source": [
        "print(train_examples[0].text_a)\r\n",
        "print(train_features[0].input_ids)\r\n",
        "print(train_features[0].input_mask)\r\n",
        "print(train_features[0].segment_ids)\r\n",
        "print(train_features[0].label_id)"
      ],
      "execution_count": null,
      "outputs": [
        {
          "output_type": "stream",
          "text": [
            "favolosa app complimenti se volete <number> minuti gratis utilizzare questo codice gnzdh\n",
            "[2, 10968, 337, 662, 42, 804, 6, 13455, 14368, 127748, 453, 683, 7522, 79, 2242, 5849, 83057, 1431, 3, 0, 0, 0, 0, 0, 0, 0, 0, 0, 0, 0, 0, 0, 0, 0, 0, 0, 0, 0, 0, 0, 0, 0, 0, 0, 0, 0, 0, 0, 0, 0, 0, 0, 0, 0, 0, 0, 0, 0, 0, 0, 0, 0, 0, 0, 0, 0, 0, 0, 0, 0, 0, 0, 0, 0, 0, 0, 0, 0, 0, 0, 0, 0, 0, 0, 0, 0, 0, 0, 0, 0, 0, 0, 0, 0, 0, 0, 0, 0, 0, 0, 0, 0, 0, 0, 0, 0, 0, 0, 0, 0, 0, 0, 0, 0, 0, 0, 0, 0, 0, 0, 0, 0, 0, 0, 0, 0, 0, 0]\n",
            "[1, 1, 1, 1, 1, 1, 1, 1, 1, 1, 1, 1, 1, 1, 1, 1, 1, 1, 1, 0, 0, 0, 0, 0, 0, 0, 0, 0, 0, 0, 0, 0, 0, 0, 0, 0, 0, 0, 0, 0, 0, 0, 0, 0, 0, 0, 0, 0, 0, 0, 0, 0, 0, 0, 0, 0, 0, 0, 0, 0, 0, 0, 0, 0, 0, 0, 0, 0, 0, 0, 0, 0, 0, 0, 0, 0, 0, 0, 0, 0, 0, 0, 0, 0, 0, 0, 0, 0, 0, 0, 0, 0, 0, 0, 0, 0, 0, 0, 0, 0, 0, 0, 0, 0, 0, 0, 0, 0, 0, 0, 0, 0, 0, 0, 0, 0, 0, 0, 0, 0, 0, 0, 0, 0, 0, 0, 0, 0]\n",
            "[0, 0, 0, 0, 0, 0, 0, 0, 0, 0, 0, 0, 0, 0, 0, 0, 0, 0, 0, 0, 0, 0, 0, 0, 0, 0, 0, 0, 0, 0, 0, 0, 0, 0, 0, 0, 0, 0, 0, 0, 0, 0, 0, 0, 0, 0, 0, 0, 0, 0, 0, 0, 0, 0, 0, 0, 0, 0, 0, 0, 0, 0, 0, 0, 0, 0, 0, 0, 0, 0, 0, 0, 0, 0, 0, 0, 0, 0, 0, 0, 0, 0, 0, 0, 0, 0, 0, 0, 0, 0, 0, 0, 0, 0, 0, 0, 0, 0, 0, 0, 0, 0, 0, 0, 0, 0, 0, 0, 0, 0, 0, 0, 0, 0, 0, 0, 0, 0, 0, 0, 0, 0, 0, 0, 0, 0, 0, 0]\n",
            "1\n"
          ],
          "name": "stdout"
        }
      ]
    },
    {
      "cell_type": "markdown",
      "metadata": {
        "id": "m3iFMeqLaSll"
      },
      "source": [
        "### Fine-tune pretrained BERT Model"
      ]
    },
    {
      "cell_type": "markdown",
      "metadata": {
        "id": "eXyJRc0OIHEU"
      },
      "source": [
        "This section demonstrates fine-tuning from a pre-trained BERT TF Hub module and running predictions.\n"
      ]
    },
    {
      "cell_type": "code",
      "metadata": {
        "id": "fG9AEqHwtUZW",
        "colab": {
          "base_uri": "https://localhost:8080/"
        },
        "outputId": "4d1f3578-7142-49f5-cb63-71c579081816"
      },
      "source": [
        "BERT_CONFIG= modeling.BertConfig.from_json_file(BERT_CONFIG_FILE)\r\n",
        "\r\n",
        "#inizialize parameters\r\n",
        "num_train_steps = int(len(train_examples) / TRAIN_BATCH_SIZE * NUM_TRAIN_EPOCHS)+1\r\n",
        "num_warmup_steps = int(NUM_TRAIN_EPOCHS * WARMUP_PROPORTION)\r\n",
        "print(num_train_steps)\r\n",
        "print(num_warmup_steps)"
      ],
      "execution_count": null,
      "outputs": [
        {
          "output_type": "stream",
          "text": [
            "126\n",
            "1\n"
          ],
          "name": "stdout"
        }
      ]
    },
    {
      "cell_type": "code",
      "metadata": {
        "id": "nwcsdbLuIX2I"
      },
      "source": [
        "model_fn = model_fn_builder(\n",
        "  bert_config=BERT_CONFIG,\n",
        "  num_labels=len(label_list),\n",
        "  init_checkpoint=INIT_CHECKPOINT,\n",
        "  learning_rate=LEARNING_RATE,\n",
        "  num_train_steps=num_train_steps,\n",
        "  num_warmup_steps=num_warmup_steps,\n",
        "  use_tpu=True,\n",
        "  use_one_hot_embeddings=True\n",
        ")\n",
        "\n",
        "estimator = tf.contrib.tpu.TPUEstimator(\n",
        "  use_tpu=True,\n",
        "  model_fn=model_fn,\n",
        "  config=get_run_config(OUTPUT_DIR_MODEL),\n",
        "  train_batch_size=TRAIN_BATCH_SIZE,\n",
        "  eval_batch_size=EVAL_BATCH_SIZE,\n",
        "  predict_batch_size=PREDICT_BATCH_SIZE,\n",
        ")\n"
      ],
      "execution_count": null,
      "outputs": []
    },
    {
      "cell_type": "code",
      "metadata": {
        "id": "WaR8i758-Ijt"
      },
      "source": [
        "print(\"***** Running training *****\")\n",
        "print(\"  Num examples = %d\", len(train_examples))\n",
        "print(\"  Num labels = %d\", len(label_list))\n",
        "print(\"  Batch size = %d\", TRAIN_BATCH_SIZE)\n",
        "print(\"  Num steps = %d\", num_train_steps)\n",
        "\n",
        "train_input_fn = input_fn_builder(\n",
        "    features=train_features,\n",
        "    seq_length=MAX_SEQ_LENGTH,\n",
        "    is_training=True,\n",
        "    drop_remainder=True)\n",
        "\n",
        "print('***** Started training at {} *****'.format(datetime.datetime.now()))\n",
        "estimator.train(input_fn=train_input_fn, max_steps=num_train_steps)\n",
        "print('***** Finished training at {} *****'.format(datetime.datetime.now()))\n"
      ],
      "execution_count": null,
      "outputs": []
    },
    {
      "cell_type": "markdown",
      "metadata": {
        "id": "jIX48Y42PJ9U"
      },
      "source": [
        "### Make predictions from estimator"
      ]
    },
    {
      "cell_type": "code",
      "metadata": {
        "id": "mSHvbrbvPJLf"
      },
      "source": [
        "# MODEL PREDICTIONS\r\n",
        "input_features = convert_examples_to_features(\r\n",
        "      test_examples,label_list, MAX_SEQ_LENGTH, tokenizer)\r\n",
        "  \r\n",
        "\r\n",
        "# Eval will be slightly WRONG on the TPU because it will truncate\r\n",
        "# the last batch.\r\n",
        "\r\n",
        "predict_input_fn = input_fn_builder(\r\n",
        "    features=input_features,\r\n",
        "    seq_length=MAX_SEQ_LENGTH,\r\n",
        "    is_training=False,\r\n",
        "    drop_remainder=False)\r\n",
        "\r\n",
        "\r\n",
        "predictions = estimator.predict(predict_input_fn)\r\n",
        "\r\n",
        "print('***** Finished evaluation at {} *****'.format(datetime.datetime.now()))\r\n"
      ],
      "execution_count": null,
      "outputs": []
    },
    {
      "cell_type": "code",
      "metadata": {
        "colab": {
          "base_uri": "https://localhost:8080/"
        },
        "id": "YngUWx5yQNp6",
        "outputId": "33bba58c-372b-4a3a-a7d5-3407a10dfc84"
      },
      "source": [
        "#SAVE IN BUCKLET RESULTS AND PRINT THEM\r\n",
        "output_eval_file = os.path.join(OUTPUT_DIR_RESULT, \"sharing_mobility_31122020_results.csv\")\r\n",
        "output_eval_file_drive = os.path.join(DATA_PATH, \"sharing_mobility_31122020_results.csv\")\r\n",
        "with tf.gfile.GFile(output_eval_file, \"w\") as writer:\r\n",
        "  print(\"***** Results *****\")\r\n",
        "  writer.write(\"{}\\t{}\\t{}\\n\".format(\"sentence\", \"actual\", \"predicted\") )\r\n",
        "  for example, prediction, label in zip(sentence_test, predictions, labels_test):\r\n",
        "    #print('\\t prediction:{} \\t id:{} \\t text_a: {}'.format( prediction['probabilities'][0],str(id),str(example) ) )\r\n",
        "    writer.write(\"{}\\t{}\\t{}\\n\".format(example, label, prediction['probabilities'][1]))"
      ],
      "execution_count": null,
      "outputs": [
        {
          "output_type": "stream",
          "text": [
            "***** Results *****\n",
            "INFO:tensorflow:Enqueue next (1) batch(es) of data to infeed.\n",
            "INFO:tensorflow:Dequeue next (1) batch(es) of data from outfeed.\n",
            "INFO:tensorflow:Outfeed finished for iteration (4, 0)\n",
            "INFO:tensorflow:Stop infeed thread controller\n",
            "INFO:tensorflow:Shutting down InfeedController thread.\n",
            "INFO:tensorflow:InfeedController received shutdown signal, stopping.\n",
            "INFO:tensorflow:Infeed thread finished, shutting down.\n",
            "INFO:tensorflow:infeed marked as finished\n",
            "INFO:tensorflow:Stop output thread controller\n",
            "INFO:tensorflow:Shutting down OutfeedController thread.\n",
            "INFO:tensorflow:OutfeedController received shutdown signal, stopping.\n",
            "INFO:tensorflow:Outfeed thread finished, shutting down.\n",
            "INFO:tensorflow:outfeed marked as finished\n",
            "INFO:tensorflow:Shutdown TPU system.\n",
            "INFO:tensorflow:prediction_loop marked as finished\n",
            "INFO:tensorflow:prediction_loop marked as finished\n"
          ],
          "name": "stdout"
        }
      ]
    },
    {
      "cell_type": "markdown",
      "metadata": {
        "id": "zaM3d2whBah1"
      },
      "source": [
        "### evaluate predictions"
      ]
    },
    {
      "cell_type": "code",
      "metadata": {
        "colab": {
          "base_uri": "https://localhost:8080/",
          "height": 295
        },
        "id": "5u2T4HhqBetU",
        "outputId": "44e29ce5-fbbf-4add-a94e-ee8f770287c7"
      },
      "source": [
        "import pandas as pd\r\n",
        "import numpy as np\r\n",
        "\r\n",
        "result = pd.read_csv(output_eval_file_drive, sep='\\t', header = 0)\r\n",
        "result.columns = ['sentence', 'actual', 'predicted']\r\n",
        "result = result.dropna().reset_index(drop=True)\r\n",
        "\r\n",
        "y_test = result.actual.values\r\n",
        "y_proba = result.predicted.values\r\n",
        "\r\n",
        "def get_confusion_matrix(y_true, y_pred):\r\n",
        "    n_classes = len(np.unique(y_true))\r\n",
        "    conf = np.zeros((n_classes, n_classes))\r\n",
        "    for actual, pred in zip(y_true, y_pred):\r\n",
        "        conf[int(actual)][int(pred)] += 1\r\n",
        "    return conf.astype('int')\r\n",
        "\r\n",
        "def get_roc_curve(y_test, y_proba, delta=0.1):\r\n",
        "    \"\"\"\r\n",
        "    Return the True Positive Rates (TPRs), False Positive Rates (FPRs), \r\n",
        "    and the threshold values, seperated by delta.\r\n",
        "    \"\"\"\r\n",
        "    thresh = list(np.arange(0, 1, delta)) + [1]\r\n",
        "    TPRs = []\r\n",
        "    FPRs = []\r\n",
        "    y_pred = np.empty(y_proba.shape)\r\n",
        "    for th in thresh:\r\n",
        "        y_pred[y_proba < th] = 0\r\n",
        "        y_pred[y_proba >= th] = 1\r\n",
        "        \r\n",
        "        # confusion matrix from the function we defined\r\n",
        "        (TN, FP), (FN, TP) = get_confusion_matrix(y_test, y_pred)\r\n",
        "        \r\n",
        "        TPR = TP / (TP + FN)  # sensitivity\r\n",
        "        FPR = FP / (FP + TN)  # 1 - specificity\r\n",
        "        TPRs.append(TPR)\r\n",
        "        FPRs.append(FPR)\r\n",
        "    return FPRs, TPRs, thresh\r\n",
        "\r\n",
        "delta = 0.001\r\n",
        "FPRs, TPRs, _ = get_roc_curve(y_test, y_proba, delta)\r\n",
        "\r\n",
        "# Plot the ROC curve\r\n",
        "import matplotlib.pyplot as plt\r\n",
        "\r\n",
        "plt.plot(FPRs, TPRs, color='red',\r\n",
        "         lw=2, label='ROC curve')\r\n",
        "plt.plot([0, 1], [0, 1], color='navy', lw=2, linestyle='--', label=\"Mean\")\r\n",
        "plt.xlim([-0.05, 1.0])\r\n",
        "plt.ylim([0.0, 1.05])\r\n",
        "plt.xlabel('False Positive Rate')\r\n",
        "plt.ylabel('True Positive Rate')\r\n",
        "plt.title(f'ROC curve (threshold delta = {delta})')\r\n",
        "plt.legend(loc=\"lower right\")\r\n",
        "plt.show()"
      ],
      "execution_count": null,
      "outputs": [
        {
          "output_type": "display_data",
          "data": {
            "image/png": "[encoded data removed]",
            "text/plain": [
              "<Figure size 432x288 with 1 Axes>"
            ]
          },
          "metadata": {
            "tags": [],
            "needs_background": "light"
          }
        }
      ]
    },
    {
      "cell_type": "markdown",
      "metadata": {
        "id": "VRIqGLNI2ZWr"
      },
      "source": [
        "### Save Model"
      ]
    },
    {
      "cell_type": "code",
      "metadata": {
        "id": "edHti7HIMO5r"
      },
      "source": [
        "#SAVE MODEL TO PB FORMAT\r\n",
        "\r\n",
        "#TO DO PROVA A TOGLIERE NONE\r\n",
        "def serving_input_fn():\r\n",
        "    label_ids = tf.placeholder(tf.int32, [None], name='label_ids')\r\n",
        "    input_ids = tf.placeholder(tf.int32, [None, MAX_SEQ_LENGTH], name='input_ids')\r\n",
        "    input_mask = tf.placeholder(tf.int32, [None, MAX_SEQ_LENGTH], name='input_mask')\r\n",
        "    segment_ids = tf.placeholder(tf.int32, [None, MAX_SEQ_LENGTH], name='segment_ids')\r\n",
        "    input_fn = tf.estimator.export.build_raw_serving_input_receiver_fn({\r\n",
        "        'label_ids': label_ids,\r\n",
        "        'input_ids': input_ids,\r\n",
        "        'input_mask': input_mask,\r\n",
        "        'segment_ids': segment_ids,\r\n",
        "    })()\r\n",
        "    return input_fn\r\n",
        "\r\n",
        "estimator._export_to_tpu = False\r\n",
        "estimator.export_saved_model(OUTPUT_DIR_MODEL_TO_EXPORT, serving_input_receiver_fn=serving_input_fn)"
      ],
      "execution_count": null,
      "outputs": []
    },
    {
      "cell_type": "code",
      "metadata": {
        "id": "-fGBOIYwpNqi"
      },
      "source": [
        "!gsutil cp -r \\\r\n",
        "  gs://bucket-rebert/model_alberto_addestrato/1608503656/ \\\r\n",
        "  /content/drive/My Drive/Colab Notebooks/model"
      ],
      "execution_count": null,
      "outputs": []
    },
    {
      "cell_type": "code",
      "metadata": {
        "id": "0wuPqiizU25K"
      },
      "source": [
        "!saved_model_cli show --dir 'gs://bucket-rebert/model_alberto_addestrato/1608504002' --all"
      ],
      "execution_count": null,
      "outputs": []
    },
    {
      "cell_type": "markdown",
      "metadata": {
        "id": "Q_04GUPx2knI"
      },
      "source": [
        "## Make predictions from loaded model"
      ]
    },
    {
      "cell_type": "markdown",
      "metadata": {
        "id": "8YjOFTm46rUY"
      },
      "source": [
        "### Load Model"
      ]
    },
    {
      "cell_type": "code",
      "metadata": {
        "id": "ZFLUDq_nllHc",
        "colab": {
          "base_uri": "https://localhost:8080/"
        },
        "outputId": "10a00663-52e0-438b-a2b4-91623fce6d8b"
      },
      "source": [
        "#LOAD MODEL\r\n",
        "#LOAD_PATH = os.path.join(MODEL_PATH,'model_alberto_addestrato.h5','1608370941')\r\n",
        "#LOAD_PATH_PB = os.path.join(MODEL_PATH,'model_alberto_addestrato.h5','1608370941','saved_model.pb')\r\n",
        "LOAD_PATH_GCP = os.path.join(BUCKET_DIR,'model_alberto_addestrato','1608503656')\r\n",
        "LOAD_PATH_GCP_PB = os.path.join(BUCKET_DIR,'model_alberto_addestrato.h5','1608503656','saved_model.pb')\r\n",
        "print(LOAD_PATH_GCP)"
      ],
      "execution_count": null,
      "outputs": [
        {
          "output_type": "stream",
          "text": [
            "gs://bucket-rebert/model_alberto_addestrato/1608503656\n"
          ],
          "name": "stdout"
        }
      ]
    },
    {
      "cell_type": "code",
      "metadata": {
        "colab": {
          "base_uri": "https://localhost:8080/"
        },
        "id": "I_8LJhN4bKyF",
        "outputId": "337b1ca8-d6f8-4efd-d9ad-201c3091dfbf"
      },
      "source": [
        "from tensorflow.contrib import predictor\r\n",
        "\r\n",
        "predict_fn = predictor.from_saved_model(LOAD_PATH_GCP)"
      ],
      "execution_count": null,
      "outputs": [
        {
          "output_type": "stream",
          "text": [
            "WARNING:tensorflow:From /usr/local/lib/python3.6/dist-packages/tensorflow/contrib/predictor/saved_model_predictor.py:153: load (from tensorflow.python.saved_model.loader_impl) is deprecated and will be removed in a future version.\n",
            "Instructions for updating:\n",
            "This function will only be available through the v1 compatibility library as tf.compat.v1.saved_model.loader.load or tf.compat.v1.saved_model.load. There will be a new function for importing SavedModels in Tensorflow 2.0.\n",
            "WARNING:tensorflow:From /usr/local/lib/python3.6/dist-packages/tensorflow/python/training/saver.py:1276: checkpoint_exists (from tensorflow.python.training.checkpoint_management) is deprecated and will be removed in a future version.\n",
            "Instructions for updating:\n",
            "Use standard file APIs to check for files with this prefix.\n",
            "INFO:tensorflow:Restoring parameters from gs://bucket-rebert/model_alberto_addestrato/1608503656/variables/variables\n"
          ],
          "name": "stdout"
        }
      ]
    },
    {
      "cell_type": "markdown",
      "metadata": {
        "id": "GrGsH5Zu3JCt"
      },
      "source": [
        "### Make Predictions"
      ]
    },
    {
      "cell_type": "code",
      "metadata": {
        "id": "Fg02dbr-Hnq_"
      },
      "source": [
        "def convert_single_string_to_input_dict(tokenizer,example_string_prep):\r\n",
        "\r\n",
        "  token_a = tokenizer.tokenize(example_string_prep)\r\n",
        "\r\n",
        "  tokens = []\r\n",
        "  segments_ids = []\r\n",
        "  segment_ids = []\r\n",
        "\r\n",
        "  tokens.append(\"[CLS]\")\r\n",
        "  segment_ids.append(0)\r\n",
        "  for token in token_a:\r\n",
        "    tokens.append(token)\r\n",
        "    segment_ids.append(0)\r\n",
        "\r\n",
        "  tokens.append('[SEP]')\r\n",
        "  segment_ids.append(0)\r\n",
        "    \r\n",
        "  input_ids = tokenizer.convert_tokens_to_ids(tokens)\r\n",
        "  input_mask = [1] * len(input_ids)\r\n",
        "\r\n",
        "  while len(input_ids) < MAX_SEQ_LENGTH:\r\n",
        "    input_ids.append(0)\r\n",
        "    input_mask.append(0)\r\n",
        "    segment_ids.append(0)\r\n",
        "\r\n",
        "  label_id = [0]\r\n",
        "  padding = [0] * MAX_SEQ_LENGTH\r\n",
        "  print(len(input_ids),len(input_mask),len(segment_ids),len(label_id))\r\n",
        "  return {\"input_ids\":[input_ids,padding], \"input_mask\":[input_mask,padding], \"segment_ids\":[segment_ids,padding], \"label_ids\":label_id}\r\n",
        "\r\n",
        "def predict(tokenizer, predict_fn, input_str, MAX_SEQ_LENGTH):\r\n",
        "    # CONVERT DATA TO FEATURES\r\n",
        "    example_prep = ekphrasis_preprocess(input_str)\r\n",
        "    example_features = convert_single_string_to_input_dict(tokenizer=tokenizer,\r\n",
        "                                                       example_string=example_prep,\r\n",
        "                                                       max_seq_length=MAX_SEQ_LENGTH)\r\n",
        "\r\n",
        "    prediction = predict_fn(example_features)['probabilities'][0]\r\n",
        "    prediction_dict = {'POS': round(prediction[1],4), 'NEG': round(prediction[0],4)}\r\n",
        "    pprint(f\"prediction: {prediction_dict}\")\r\n",
        "    return prediction"
      ],
      "execution_count": null,
      "outputs": []
    },
    {
      "cell_type": "code",
      "metadata": {
        "id": "eoXRtSPZvdiS"
      },
      "source": [
        "# MODEL PREDICTIONS\n",
        "example_sent_neg = \"brutto e cattivo, sono veramente triste mi vorrei uccidere la mia vita non ha senso è terribile male male\"\n",
        "example_sent_pos = \"sono euforico, mi piace così tanto che sono felice solo di poter essere vivo e poter prendere il monopattino per raggiungere l'apice della mia felicità\"\n",
        "\n",
        "print(predict(tokenizer, predict_fn, example_sent_neg, MAX_SEQ_LENGTH))\n",
        "print(predict(tokenizer, predict_fn, example_sent_neg, MAX_SEQ_LENGTH))"
      ],
      "execution_count": null,
      "outputs": []
    },
    {
      "cell_type": "code",
      "metadata": {
        "colab": {
          "base_uri": "https://localhost:8080/"
        },
        "id": "yKW0y32Of7Hk",
        "outputId": "2e816cc4-90c5-4b41-92f0-26069919b9c4"
      },
      "source": [
        "#PROVA PREDICT 1\r\n",
        "input = '\"input_ids\":[2, 337, 7855, 13, 32584, 49470, 29, 16, 232, 492, 122, 93, 811, 452, 12, 38, 204, 16, 56481, 30, 53, 1754, 14, 931, 60, 786, 3516, 815, 53, 3153, 12, 24973, 3, 0, 0, 0, 0, 0, 0, 0, 0, 0, 0, 0, 0, 0, 0, 0, 0, 0, 0, 0, 0, 0, 0, 0, 0, 0, 0, 0, 0, 0, 0, 0, 0, 0, 0, 0, 0, 0, 0, 0, 0, 0, 0, 0, 0, 0, 0, 0, 0, 0, 0, 0, 0, 0, 0, 0, 0, 0, 0, 0, 0, 0, 0, 0, 0, 0, 0, 0, 0, 0, 0, 0, 0, 0, 0, 0, 0, 0, 0, 0, 0, 0, 0, 0, 0, 0, 0, 0, 0, 0, 0, 0, 0, 0, 0, 0],' \\\r\n",
        "    '\"input_mask\": [1, 1, 1, 1, 1, 1, 1, 1, 1, 1, 1, 1, 1, 1, 1, 1, 1, 1, 1, 1, 1, 1, 1, 1, 1, 1, 1, 1, 1, 1, 1, 1, 1, 0, 0, 0, 0, 0, 0, 0, 0, 0, 0, 0, 0, 0, 0, 0, 0, 0, 0, 0, 0, 0, 0, 0, 0, 0, 0, 0, 0, 0, 0, 0, 0, 0, 0, 0, 0, 0, 0, 0, 0, 0, 0, 0, 0, 0, 0, 0, 0, 0, 0, 0, 0, 0, 0, 0, 0, 0, 0, 0, 0, 0, 0, 0, 0, 0, 0, 0, 0, 0, 0, 0, 0, 0, 0, 0, 0, 0, 0, 0, 0, 0, 0, 0, 0, 0, 0, 0, 0, 0, 0, 0, 0, 0, 0, 0],' \\\r\n",
        "    '\"segment_ids\": [0, 0, 0, 0, 0, 0, 0, 0, 0, 0, 0, 0, 0, 0, 0, 0, 0, 0, 0, 0, 0, 0, 0, 0, 0, 0, 0, 0, 0, 0, 0, 0, 0, 0, 0, 0, 0, 0, 0, 0, 0, 0, 0, 0, 0, 0, 0, 0, 0, 0, 0, 0, 0, 0, 0, 0, 0, 0, 0, 0, 0, 0, 0, 0, 0, 0, 0, 0, 0, 0, 0, 0, 0, 0, 0, 0, 0, 0, 0, 0, 0, 0, 0, 0, 0, 0, 0, 0, 0, 0, 0, 0, 0, 0, 0, 0, 0, 0, 0, 0, 0, 0, 0, 0, 0, 0, 0, 0, 0, 0, 0, 0, 0, 0, 0, 0, 0, 0, 0, 0, 0, 0, 0, 0, 0, 0, 0, 0],' \\\r\n",
        "    '\"label_ids\": [0]}'\r\n",
        "    \r\n",
        "print(input_dict)\r\n",
        "\r\n",
        "!saved_model_cli run \\\r\n",
        "    --dir 'gs://bucket-rebert/model_alberto_addestrato/1608503656' \\\r\n",
        "    --tag_set serve \\\r\n",
        "    --signature_def predict \\\r\n",
        "    --input_exprs '\"instances\":[{\"examples\":{\"input_ids\":[2, 337, 7855, 13, 32584, 49470, 29, 16, 232, 492, 122, 93, 811, 452, 12, 38, 204, 16, 56481, 30, 53, 1754, 14, 931, 60, 786, 3516, 815, 53, 3153, 12, 24973, 3, 0, 0, 0, 0, 0, 0, 0, 0, 0, 0, 0, 0, 0, 0, 0, 0, 0, 0, 0, 0, 0, 0, 0, 0, 0, 0, 0, 0, 0, 0, 0, 0, 0, 0, 0, 0, 0, 0, 0, 0, 0, 0, 0, 0, 0, 0, 0, 0, 0, 0, 0, 0, 0, 0, 0, 0, 0, 0, 0, 0, 0, 0, 0, 0, 0, 0, 0, 0, 0, 0, 0, 0, 0, 0, 0, 0, 0, 0, 0, 0, 0, 0, 0, 0, 0, 0, 0, 0, 0, 0, 0, 0, 0, 0, 0],\"input_mask\": [1, 1, 1, 1, 1, 1, 1, 1, 1, 1, 1, 1, 1, 1, 1, 1, 1, 1, 1, 1, 1, 1, 1, 1, 1, 1, 1, 1, 1, 1, 1, 1, 1, 0, 0, 0, 0, 0, 0, 0, 0, 0, 0, 0, 0, 0, 0, 0, 0, 0, 0, 0, 0, 0, 0, 0, 0, 0, 0, 0, 0, 0, 0, 0, 0, 0, 0, 0, 0, 0, 0, 0, 0, 0, 0, 0, 0, 0, 0, 0, 0, 0, 0, 0, 0, 0, 0, 0, 0, 0, 0, 0, 0, 0, 0, 0, 0, 0, 0, 0, 0, 0, 0, 0, 0, 0, 0, 0, 0, 0, 0, 0, 0, 0, 0, 0, 0, 0, 0, 0, 0, 0, 0, 0, 0, 0, 0, 0],\"segment_ids\": [0, 0, 0, 0, 0, 0, 0, 0, 0, 0, 0, 0, 0, 0, 0, 0, 0, 0, 0, 0, 0, 0, 0, 0, 0, 0, 0, 0, 0, 0, 0, 0, 0, 0, 0, 0, 0, 0, 0, 0, 0, 0, 0, 0, 0, 0, 0, 0, 0, 0, 0, 0, 0, 0, 0, 0, 0, 0, 0, 0, 0, 0, 0, 0, 0, 0, 0, 0, 0, 0, 0, 0, 0, 0, 0, 0, 0, 0, 0, 0, 0, 0, 0, 0, 0, 0, 0, 0, 0, 0, 0, 0, 0, 0, 0, 0, 0, 0, 0, 0, 0, 0, 0, 0, 0, 0, 0, 0, 0, 0, 0, 0, 0, 0, 0, 0, 0, 0, 0, 0, 0, 0, 0, 0, 0, 0, 0, 0],\"label_ids\": [0]}}]'"
      ],
      "execution_count": null,
      "outputs": [
        {
          "output_type": "stream",
          "text": [
            "input=[{\"input_ids\":[2, 337, 7855, 13, 32584, 49470, 29, 16, 232, 492, 122, 93, 811, 452, 12, 38, 204, 16, 56481, 30, 53, 1754, 14, 931, 60, 786, 3516, 815, 53, 3153, 12, 24973, 3, 0, 0, 0, 0, 0, 0, 0, 0, 0, 0, 0, 0, 0, 0, 0, 0, 0, 0, 0, 0, 0, 0, 0, 0, 0, 0, 0, 0, 0, 0, 0, 0, 0, 0, 0, 0, 0, 0, 0, 0, 0, 0, 0, 0, 0, 0, 0, 0, 0, 0, 0, 0, 0, 0, 0, 0, 0, 0, 0, 0, 0, 0, 0, 0, 0, 0, 0, 0, 0, 0, 0, 0, 0, 0, 0, 0, 0, 0, 0, 0, 0, 0, 0, 0, 0, 0, 0, 0, 0, 0, 0, 0, 0, 0, 0],\"input_mask\": [1, 1, 1, 1, 1, 1, 1, 1, 1, 1, 1, 1, 1, 1, 1, 1, 1, 1, 1, 1, 1, 1, 1, 1, 1, 1, 1, 1, 1, 1, 1, 1, 1, 0, 0, 0, 0, 0, 0, 0, 0, 0, 0, 0, 0, 0, 0, 0, 0, 0, 0, 0, 0, 0, 0, 0, 0, 0, 0, 0, 0, 0, 0, 0, 0, 0, 0, 0, 0, 0, 0, 0, 0, 0, 0, 0, 0, 0, 0, 0, 0, 0, 0, 0, 0, 0, 0, 0, 0, 0, 0, 0, 0, 0, 0, 0, 0, 0, 0, 0, 0, 0, 0, 0, 0, 0, 0, 0, 0, 0, 0, 0, 0, 0, 0, 0, 0, 0, 0, 0, 0, 0, 0, 0, 0, 0, 0, 0],\"segment_ids\": [0, 0, 0, 0, 0, 0, 0, 0, 0, 0, 0, 0, 0, 0, 0, 0, 0, 0, 0, 0, 0, 0, 0, 0, 0, 0, 0, 0, 0, 0, 0, 0, 0, 0, 0, 0, 0, 0, 0, 0, 0, 0, 0, 0, 0, 0, 0, 0, 0, 0, 0, 0, 0, 0, 0, 0, 0, 0, 0, 0, 0, 0, 0, 0, 0, 0, 0, 0, 0, 0, 0, 0, 0, 0, 0, 0, 0, 0, 0, 0, 0, 0, 0, 0, 0, 0, 0, 0, 0, 0, 0, 0, 0, 0, 0, 0, 0, 0, 0, 0, 0, 0, 0, 0, 0, 0, 0, 0, 0, 0, 0, 0, 0, 0, 0, 0, 0, 0, 0, 0, 0, 0, 0, 0, 0, 0, 0, 0],\"label_ids\": [0]}}]\n"
          ],
          "name": "stdout"
        }
      ]
    },
    {
      "cell_type": "code",
      "metadata": {
        "colab": {
          "base_uri": "https://localhost:8080/"
        },
        "id": "t8KlAuG6LoEK",
        "outputId": "c1940379-31a3-42e3-891e-8493cb455b69"
      },
      "source": [
        "#PROVA PREDICT 2\r\n",
        "example_input = \"This is the input string\"\r\n",
        "example1 = ekphrasis_preprocess(text_processor, example_input)\r\n",
        "example2 = InputExample(guid=None,text_a = example1,text_b = None,label = 0)\r\n",
        "example3 = convert_single_example(0,example2, label_list, MAX_SEQ_LENGTH, tokenizer)\r\n",
        "print(example3)"
      ],
      "execution_count": null,
      "outputs": [
        {
          "output_type": "stream",
          "text": [
            "WARNING:tensorflow:From bert_repo/run_classifier.py:461: The name tf.logging.info is deprecated. Please use tf.compat.v1.logging.info instead.\n",
            "\n",
            "INFO:tensorflow:*** Example ***\n",
            "INFO:tensorflow:guid: None\n",
            "INFO:tensorflow:tokens: [CLS] this is the input string [SEP]\n",
            "INFO:tensorflow:input_ids: 2 1869 721 291 43049 42225 3 0 0 0 0 0 0 0 0 0 0 0 0 0 0 0 0 0 0 0 0 0 0 0 0 0 0 0 0 0 0 0 0 0 0 0 0 0 0 0 0 0 0 0 0 0 0 0 0 0 0 0 0 0 0 0 0 0 0 0 0 0 0 0 0 0 0 0 0 0 0 0 0 0 0 0 0 0 0 0 0 0 0 0 0 0 0 0 0 0 0 0 0 0 0 0 0 0 0 0 0 0 0 0 0 0 0 0 0 0 0 0 0 0 0 0 0 0 0 0 0 0\n",
            "INFO:tensorflow:input_mask: 1 1 1 1 1 1 1 0 0 0 0 0 0 0 0 0 0 0 0 0 0 0 0 0 0 0 0 0 0 0 0 0 0 0 0 0 0 0 0 0 0 0 0 0 0 0 0 0 0 0 0 0 0 0 0 0 0 0 0 0 0 0 0 0 0 0 0 0 0 0 0 0 0 0 0 0 0 0 0 0 0 0 0 0 0 0 0 0 0 0 0 0 0 0 0 0 0 0 0 0 0 0 0 0 0 0 0 0 0 0 0 0 0 0 0 0 0 0 0 0 0 0 0 0 0 0 0 0\n",
            "INFO:tensorflow:segment_ids: 0 0 0 0 0 0 0 0 0 0 0 0 0 0 0 0 0 0 0 0 0 0 0 0 0 0 0 0 0 0 0 0 0 0 0 0 0 0 0 0 0 0 0 0 0 0 0 0 0 0 0 0 0 0 0 0 0 0 0 0 0 0 0 0 0 0 0 0 0 0 0 0 0 0 0 0 0 0 0 0 0 0 0 0 0 0 0 0 0 0 0 0 0 0 0 0 0 0 0 0 0 0 0 0 0 0 0 0 0 0 0 0 0 0 0 0 0 0 0 0 0 0 0 0 0 0 0 0\n",
            "INFO:tensorflow:label: 0 (id = 0)\n",
            "<run_classifier.InputFeatures object at 0x7f637e79ee80>\n"
          ],
          "name": "stdout"
        }
      ]
    }
  ]
}